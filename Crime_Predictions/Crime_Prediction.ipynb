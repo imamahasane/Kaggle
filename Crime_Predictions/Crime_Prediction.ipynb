{
 "cells": [
  {
   "cell_type": "code",
   "execution_count": 31,
   "id": "a8dcdeb8",
   "metadata": {},
   "outputs": [],
   "source": [
    "import numpy as np\n",
    "import pandas as pd\n",
    "import matplotlib.pyplot as plt\n",
    "import seaborn as sns\n",
    "    \n",
    "from sklearn.preprocessing import LabelEncoder  \n",
    "from sklearn.model_selection import train_test_split\n",
    "from sklearn.linear_model import LinearRegression\n",
    "from sklearn import metrics\n"
   ]
  },
  {
   "cell_type": "code",
   "execution_count": 32,
   "id": "77702b5f",
   "metadata": {},
   "outputs": [],
   "source": [
    "data = pd.read_excel('crime.xlsx')"
   ]
  },
  {
   "cell_type": "code",
   "execution_count": 33,
   "id": "ed2a29af",
   "metadata": {},
   "outputs": [
    {
     "data": {
      "text/html": [
       "<div>\n",
       "<style scoped>\n",
       "    .dataframe tbody tr th:only-of-type {\n",
       "        vertical-align: middle;\n",
       "    }\n",
       "\n",
       "    .dataframe tbody tr th {\n",
       "        vertical-align: top;\n",
       "    }\n",
       "\n",
       "    .dataframe thead th {\n",
       "        text-align: right;\n",
       "    }\n",
       "</style>\n",
       "<table border=\"1\" class=\"dataframe\">\n",
       "  <thead>\n",
       "    <tr style=\"text-align: right;\">\n",
       "      <th></th>\n",
       "      <th>State</th>\n",
       "      <th>Year</th>\n",
       "      <th>Gender</th>\n",
       "      <th>Location</th>\n",
       "      <th>Victims_Above_50_Yrs</th>\n",
       "      <th>Victims_Total</th>\n",
       "      <th>Victims_Upto_10_15_Yrs</th>\n",
       "      <th>Victims_Upto_10_Yrs</th>\n",
       "      <th>Victims_Upto_15_18_Yrs</th>\n",
       "      <th>Victims_Upto_18_30_Yrs</th>\n",
       "      <th>Victims_Upto_30_50_Yrs</th>\n",
       "    </tr>\n",
       "  </thead>\n",
       "  <tbody>\n",
       "    <tr>\n",
       "      <th>0</th>\n",
       "      <td>Delhi</td>\n",
       "      <td>2010</td>\n",
       "      <td>Female Victims</td>\n",
       "      <td>Hauz khas</td>\n",
       "      <td>14</td>\n",
       "      <td>152</td>\n",
       "      <td>2</td>\n",
       "      <td>12</td>\n",
       "      <td>9</td>\n",
       "      <td>74</td>\n",
       "      <td>41</td>\n",
       "    </tr>\n",
       "    <tr>\n",
       "      <th>1</th>\n",
       "      <td>Delhi</td>\n",
       "      <td>2011</td>\n",
       "      <td>Female Victims</td>\n",
       "      <td>Vasant vihar</td>\n",
       "      <td>14</td>\n",
       "      <td>130</td>\n",
       "      <td>3</td>\n",
       "      <td>6</td>\n",
       "      <td>2</td>\n",
       "      <td>69</td>\n",
       "      <td>36</td>\n",
       "    </tr>\n",
       "    <tr>\n",
       "      <th>2</th>\n",
       "      <td>Delhi</td>\n",
       "      <td>2012</td>\n",
       "      <td>Female Victims</td>\n",
       "      <td>Vasant kunj</td>\n",
       "      <td>23</td>\n",
       "      <td>131</td>\n",
       "      <td>6</td>\n",
       "      <td>8</td>\n",
       "      <td>7</td>\n",
       "      <td>44</td>\n",
       "      <td>43</td>\n",
       "    </tr>\n",
       "    <tr>\n",
       "      <th>3</th>\n",
       "      <td>Delhi</td>\n",
       "      <td>2013</td>\n",
       "      <td>Female Victims</td>\n",
       "      <td>Palam</td>\n",
       "      <td>16</td>\n",
       "      <td>125</td>\n",
       "      <td>7</td>\n",
       "      <td>14</td>\n",
       "      <td>7</td>\n",
       "      <td>51</td>\n",
       "      <td>30</td>\n",
       "    </tr>\n",
       "    <tr>\n",
       "      <th>4</th>\n",
       "      <td>Delhi</td>\n",
       "      <td>2014</td>\n",
       "      <td>Female Victims</td>\n",
       "      <td>Dwarka</td>\n",
       "      <td>15</td>\n",
       "      <td>158</td>\n",
       "      <td>3</td>\n",
       "      <td>7</td>\n",
       "      <td>3</td>\n",
       "      <td>87</td>\n",
       "      <td>43</td>\n",
       "    </tr>\n",
       "  </tbody>\n",
       "</table>\n",
       "</div>"
      ],
      "text/plain": [
       "   State  Year           Gender      Location  Victims_Above_50_Yrs  \\\n",
       "0  Delhi  2010   Female Victims     Hauz khas                    14   \n",
       "1  Delhi  2011   Female Victims  Vasant vihar                    14   \n",
       "2  Delhi  2012   Female Victims   Vasant kunj                    23   \n",
       "3  Delhi  2013   Female Victims         Palam                    16   \n",
       "4  Delhi  2014   Female Victims        Dwarka                    15   \n",
       "\n",
       "   Victims_Total  Victims_Upto_10_15_Yrs Victims_Upto_10_Yrs  \\\n",
       "0            152                       2                  12   \n",
       "1            130                       3                   6   \n",
       "2            131                       6                   8   \n",
       "3            125                       7                  14   \n",
       "4            158                       3                   7   \n",
       "\n",
       "   Victims_Upto_15_18_Yrs  Victims_Upto_18_30_Yrs  Victims_Upto_30_50_Yrs  \n",
       "0                       9                      74                      41  \n",
       "1                       2                      69                      36  \n",
       "2                       7                      44                      43  \n",
       "3                       7                      51                      30  \n",
       "4                       3                      87                      43  "
      ]
     },
     "execution_count": 33,
     "metadata": {},
     "output_type": "execute_result"
    }
   ],
   "source": [
    "data.head()"
   ]
  },
  {
   "cell_type": "code",
   "execution_count": 34,
   "id": "b76b6629",
   "metadata": {},
   "outputs": [
    {
     "data": {
      "text/plain": [
       "(78, 11)"
      ]
     },
     "execution_count": 34,
     "metadata": {},
     "output_type": "execute_result"
    }
   ],
   "source": [
    "data.shape"
   ]
  },
  {
   "cell_type": "code",
   "execution_count": 35,
   "id": "e116079b",
   "metadata": {},
   "outputs": [
    {
     "data": {
      "text/plain": [
       "State                     0\n",
       "Year                      0\n",
       "Gender                    0\n",
       "Location                  0\n",
       "Victims_Above_50_Yrs      0\n",
       "Victims_Total             0\n",
       "Victims_Upto_10_15_Yrs    0\n",
       "Victims_Upto_10_Yrs       0\n",
       "Victims_Upto_15_18_Yrs    0\n",
       "Victims_Upto_18_30_Yrs    0\n",
       "Victims_Upto_30_50_Yrs    0\n",
       "dtype: int64"
      ]
     },
     "execution_count": 35,
     "metadata": {},
     "output_type": "execute_result"
    }
   ],
   "source": [
    "data.isnull().sum()"
   ]
  },
  {
   "cell_type": "code",
   "execution_count": 36,
   "id": "c7770bb8",
   "metadata": {},
   "outputs": [
    {
     "data": {
      "text/html": [
       "<div>\n",
       "<style scoped>\n",
       "    .dataframe tbody tr th:only-of-type {\n",
       "        vertical-align: middle;\n",
       "    }\n",
       "\n",
       "    .dataframe tbody tr th {\n",
       "        vertical-align: top;\n",
       "    }\n",
       "\n",
       "    .dataframe thead th {\n",
       "        text-align: right;\n",
       "    }\n",
       "</style>\n",
       "<table border=\"1\" class=\"dataframe\">\n",
       "  <thead>\n",
       "    <tr style=\"text-align: right;\">\n",
       "      <th></th>\n",
       "      <th>Year</th>\n",
       "      <th>Victims_Above_50_Yrs</th>\n",
       "      <th>Victims_Total</th>\n",
       "      <th>Victims_Upto_10_15_Yrs</th>\n",
       "      <th>Victims_Upto_15_18_Yrs</th>\n",
       "      <th>Victims_Upto_18_30_Yrs</th>\n",
       "      <th>Victims_Upto_30_50_Yrs</th>\n",
       "    </tr>\n",
       "  </thead>\n",
       "  <tbody>\n",
       "    <tr>\n",
       "      <th>count</th>\n",
       "      <td>78.000000</td>\n",
       "      <td>78.000000</td>\n",
       "      <td>78.000000</td>\n",
       "      <td>78.000000</td>\n",
       "      <td>78.000000</td>\n",
       "      <td>78.000000</td>\n",
       "      <td>78.000000</td>\n",
       "    </tr>\n",
       "    <tr>\n",
       "      <th>mean</th>\n",
       "      <td>2014.384615</td>\n",
       "      <td>15.038462</td>\n",
       "      <td>189.448718</td>\n",
       "      <td>3.000000</td>\n",
       "      <td>5.410256</td>\n",
       "      <td>89.051282</td>\n",
       "      <td>72.256410</td>\n",
       "    </tr>\n",
       "    <tr>\n",
       "      <th>std</th>\n",
       "      <td>2.834073</td>\n",
       "      <td>19.976247</td>\n",
       "      <td>242.007118</td>\n",
       "      <td>4.321496</td>\n",
       "      <td>8.356405</td>\n",
       "      <td>111.180665</td>\n",
       "      <td>103.824582</td>\n",
       "    </tr>\n",
       "    <tr>\n",
       "      <th>min</th>\n",
       "      <td>2010.000000</td>\n",
       "      <td>0.000000</td>\n",
       "      <td>2.000000</td>\n",
       "      <td>0.000000</td>\n",
       "      <td>0.000000</td>\n",
       "      <td>0.000000</td>\n",
       "      <td>0.000000</td>\n",
       "    </tr>\n",
       "    <tr>\n",
       "      <th>25%</th>\n",
       "      <td>2012.000000</td>\n",
       "      <td>2.000000</td>\n",
       "      <td>14.250000</td>\n",
       "      <td>0.000000</td>\n",
       "      <td>0.000000</td>\n",
       "      <td>5.250000</td>\n",
       "      <td>5.250000</td>\n",
       "    </tr>\n",
       "    <tr>\n",
       "      <th>50%</th>\n",
       "      <td>2014.000000</td>\n",
       "      <td>6.000000</td>\n",
       "      <td>75.500000</td>\n",
       "      <td>1.000000</td>\n",
       "      <td>1.000000</td>\n",
       "      <td>29.000000</td>\n",
       "      <td>24.000000</td>\n",
       "    </tr>\n",
       "    <tr>\n",
       "      <th>75%</th>\n",
       "      <td>2017.000000</td>\n",
       "      <td>23.000000</td>\n",
       "      <td>351.500000</td>\n",
       "      <td>5.000000</td>\n",
       "      <td>8.000000</td>\n",
       "      <td>135.250000</td>\n",
       "      <td>99.250000</td>\n",
       "    </tr>\n",
       "    <tr>\n",
       "      <th>max</th>\n",
       "      <td>2019.000000</td>\n",
       "      <td>100.000000</td>\n",
       "      <td>831.000000</td>\n",
       "      <td>20.000000</td>\n",
       "      <td>47.000000</td>\n",
       "      <td>367.000000</td>\n",
       "      <td>381.000000</td>\n",
       "    </tr>\n",
       "  </tbody>\n",
       "</table>\n",
       "</div>"
      ],
      "text/plain": [
       "              Year  Victims_Above_50_Yrs  Victims_Total  \\\n",
       "count    78.000000             78.000000      78.000000   \n",
       "mean   2014.384615             15.038462     189.448718   \n",
       "std       2.834073             19.976247     242.007118   \n",
       "min    2010.000000              0.000000       2.000000   \n",
       "25%    2012.000000              2.000000      14.250000   \n",
       "50%    2014.000000              6.000000      75.500000   \n",
       "75%    2017.000000             23.000000     351.500000   \n",
       "max    2019.000000            100.000000     831.000000   \n",
       "\n",
       "       Victims_Upto_10_15_Yrs  Victims_Upto_15_18_Yrs  Victims_Upto_18_30_Yrs  \\\n",
       "count               78.000000               78.000000               78.000000   \n",
       "mean                 3.000000                5.410256               89.051282   \n",
       "std                  4.321496                8.356405              111.180665   \n",
       "min                  0.000000                0.000000                0.000000   \n",
       "25%                  0.000000                0.000000                5.250000   \n",
       "50%                  1.000000                1.000000               29.000000   \n",
       "75%                  5.000000                8.000000              135.250000   \n",
       "max                 20.000000               47.000000              367.000000   \n",
       "\n",
       "       Victims_Upto_30_50_Yrs  \n",
       "count               78.000000  \n",
       "mean                72.256410  \n",
       "std                103.824582  \n",
       "min                  0.000000  \n",
       "25%                  5.250000  \n",
       "50%                 24.000000  \n",
       "75%                 99.250000  \n",
       "max                381.000000  "
      ]
     },
     "execution_count": 36,
     "metadata": {},
     "output_type": "execute_result"
    }
   ],
   "source": [
    "data.describe()"
   ]
  },
  {
   "cell_type": "code",
   "execution_count": 37,
   "id": "9de557eb",
   "metadata": {},
   "outputs": [
    {
     "name": "stdout",
     "output_type": "stream",
     "text": [
      "<class 'pandas.core.frame.DataFrame'>\n",
      "RangeIndex: 78 entries, 0 to 77\n",
      "Data columns (total 11 columns):\n",
      " #   Column                  Non-Null Count  Dtype \n",
      "---  ------                  --------------  ----- \n",
      " 0   State                   78 non-null     object\n",
      " 1   Year                    78 non-null     int64 \n",
      " 2   Gender                  78 non-null     object\n",
      " 3   Location                78 non-null     object\n",
      " 4   Victims_Above_50_Yrs    78 non-null     int64 \n",
      " 5   Victims_Total           78 non-null     int64 \n",
      " 6   Victims_Upto_10_15_Yrs  78 non-null     int64 \n",
      " 7   Victims_Upto_10_Yrs     78 non-null     object\n",
      " 8   Victims_Upto_15_18_Yrs  78 non-null     int64 \n",
      " 9   Victims_Upto_18_30_Yrs  78 non-null     int64 \n",
      " 10  Victims_Upto_30_50_Yrs  78 non-null     int64 \n",
      "dtypes: int64(7), object(4)\n",
      "memory usage: 6.8+ KB\n"
     ]
    }
   ],
   "source": [
    "data.info()"
   ]
  },
  {
   "cell_type": "code",
   "execution_count": 38,
   "id": "31b68255",
   "metadata": {},
   "outputs": [],
   "source": [
    "dataset = pd.DataFrame()\n",
    "dataset['State'] = data['State']\n",
    "dataset['Year'] = data['Year']\n",
    "dataset['Total_Cases'] = data['Victims_Total']"
   ]
  },
  {
   "cell_type": "code",
   "execution_count": 39,
   "id": "09f8a94c",
   "metadata": {},
   "outputs": [
    {
     "data": {
      "text/html": [
       "<div>\n",
       "<style scoped>\n",
       "    .dataframe tbody tr th:only-of-type {\n",
       "        vertical-align: middle;\n",
       "    }\n",
       "\n",
       "    .dataframe tbody tr th {\n",
       "        vertical-align: top;\n",
       "    }\n",
       "\n",
       "    .dataframe thead th {\n",
       "        text-align: right;\n",
       "    }\n",
       "</style>\n",
       "<table border=\"1\" class=\"dataframe\">\n",
       "  <thead>\n",
       "    <tr style=\"text-align: right;\">\n",
       "      <th></th>\n",
       "      <th>State</th>\n",
       "      <th>Year</th>\n",
       "      <th>Total_Cases</th>\n",
       "    </tr>\n",
       "  </thead>\n",
       "  <tbody>\n",
       "    <tr>\n",
       "      <th>0</th>\n",
       "      <td>Delhi</td>\n",
       "      <td>2010</td>\n",
       "      <td>152</td>\n",
       "    </tr>\n",
       "    <tr>\n",
       "      <th>1</th>\n",
       "      <td>Delhi</td>\n",
       "      <td>2011</td>\n",
       "      <td>130</td>\n",
       "    </tr>\n",
       "    <tr>\n",
       "      <th>2</th>\n",
       "      <td>Delhi</td>\n",
       "      <td>2012</td>\n",
       "      <td>131</td>\n",
       "    </tr>\n",
       "    <tr>\n",
       "      <th>3</th>\n",
       "      <td>Delhi</td>\n",
       "      <td>2013</td>\n",
       "      <td>125</td>\n",
       "    </tr>\n",
       "    <tr>\n",
       "      <th>4</th>\n",
       "      <td>Delhi</td>\n",
       "      <td>2014</td>\n",
       "      <td>158</td>\n",
       "    </tr>\n",
       "  </tbody>\n",
       "</table>\n",
       "</div>"
      ],
      "text/plain": [
       "   State  Year  Total_Cases\n",
       "0  Delhi  2010          152\n",
       "1  Delhi  2011          130\n",
       "2  Delhi  2012          131\n",
       "3  Delhi  2013          125\n",
       "4  Delhi  2014          158"
      ]
     },
     "execution_count": 39,
     "metadata": {},
     "output_type": "execute_result"
    }
   ],
   "source": [
    "dataset.head()"
   ]
  },
  {
   "cell_type": "code",
   "execution_count": 40,
   "id": "dc1bcf32",
   "metadata": {},
   "outputs": [
    {
     "data": {
      "text/plain": [
       "Chandigarh    20\n",
       "Goa           20\n",
       "Delhi         19\n",
       "Haryana       19\n",
       "Name: State, dtype: int64"
      ]
     },
     "execution_count": 40,
     "metadata": {},
     "output_type": "execute_result"
    }
   ],
   "source": [
    "data['State'].value_counts()"
   ]
  },
  {
   "cell_type": "code",
   "execution_count": 41,
   "id": "6ad66a85",
   "metadata": {},
   "outputs": [
    {
     "data": {
      "text/plain": [
       "Sonipat            2\n",
       "Hisar              2\n",
       "sector 17          2\n",
       "sector 8           2\n",
       "Calangute Beach    2\n",
       "Name: Location, dtype: int64"
      ]
     },
     "execution_count": 41,
     "metadata": {},
     "output_type": "execute_result"
    }
   ],
   "source": [
    "data['Location'].value_counts().head()"
   ]
  },
  {
   "cell_type": "code",
   "execution_count": 42,
   "id": "a63aa678",
   "metadata": {},
   "outputs": [
    {
     "data": {
      "text/plain": [
       "array(['Delhi', 'Haryana', 'Chandigarh', 'Goa'], dtype=object)"
      ]
     },
     "execution_count": 42,
     "metadata": {},
     "output_type": "execute_result"
    }
   ],
   "source": [
    "dataset.State.unique()"
   ]
  },
  {
   "cell_type": "code",
   "execution_count": 43,
   "id": "0b0d4f77",
   "metadata": {},
   "outputs": [
    {
     "data": {
      "text/plain": [
       "array([2010, 2011, 2012, 2013, 2014, 2015, 2016, 2017, 2018, 2019])"
      ]
     },
     "execution_count": 43,
     "metadata": {},
     "output_type": "execute_result"
    }
   ],
   "source": [
    "dataset.Year.unique()"
   ]
  },
  {
   "cell_type": "code",
   "execution_count": 44,
   "id": "1caa87cb",
   "metadata": {},
   "outputs": [],
   "source": [
    "le = LabelEncoder() "
   ]
  },
  {
   "cell_type": "code",
   "execution_count": 45,
   "id": "d07eb1a4",
   "metadata": {},
   "outputs": [
    {
     "data": {
      "text/plain": [
       "LabelEncoder()"
      ]
     },
     "execution_count": 45,
     "metadata": {},
     "output_type": "execute_result"
    }
   ],
   "source": [
    "le"
   ]
  },
  {
   "cell_type": "code",
   "execution_count": 46,
   "id": "8ea33199",
   "metadata": {},
   "outputs": [],
   "source": [
    "dataset.iloc[:, 0] = le.fit_transform(dataset.iloc[:, 0])"
   ]
  },
  {
   "cell_type": "code",
   "execution_count": 47,
   "id": "2ea045dd",
   "metadata": {},
   "outputs": [
    {
     "data": {
      "text/html": [
       "<div>\n",
       "<style scoped>\n",
       "    .dataframe tbody tr th:only-of-type {\n",
       "        vertical-align: middle;\n",
       "    }\n",
       "\n",
       "    .dataframe tbody tr th {\n",
       "        vertical-align: top;\n",
       "    }\n",
       "\n",
       "    .dataframe thead th {\n",
       "        text-align: right;\n",
       "    }\n",
       "</style>\n",
       "<table border=\"1\" class=\"dataframe\">\n",
       "  <thead>\n",
       "    <tr style=\"text-align: right;\">\n",
       "      <th></th>\n",
       "      <th>State</th>\n",
       "      <th>Year</th>\n",
       "      <th>Total_Cases</th>\n",
       "    </tr>\n",
       "  </thead>\n",
       "  <tbody>\n",
       "    <tr>\n",
       "      <th>0</th>\n",
       "      <td>1</td>\n",
       "      <td>2010</td>\n",
       "      <td>152</td>\n",
       "    </tr>\n",
       "    <tr>\n",
       "      <th>1</th>\n",
       "      <td>1</td>\n",
       "      <td>2011</td>\n",
       "      <td>130</td>\n",
       "    </tr>\n",
       "    <tr>\n",
       "      <th>2</th>\n",
       "      <td>1</td>\n",
       "      <td>2012</td>\n",
       "      <td>131</td>\n",
       "    </tr>\n",
       "    <tr>\n",
       "      <th>3</th>\n",
       "      <td>1</td>\n",
       "      <td>2013</td>\n",
       "      <td>125</td>\n",
       "    </tr>\n",
       "    <tr>\n",
       "      <th>4</th>\n",
       "      <td>1</td>\n",
       "      <td>2014</td>\n",
       "      <td>158</td>\n",
       "    </tr>\n",
       "  </tbody>\n",
       "</table>\n",
       "</div>"
      ],
      "text/plain": [
       "   State  Year  Total_Cases\n",
       "0      1  2010          152\n",
       "1      1  2011          130\n",
       "2      1  2012          131\n",
       "3      1  2013          125\n",
       "4      1  2014          158"
      ]
     },
     "execution_count": 47,
     "metadata": {},
     "output_type": "execute_result"
    }
   ],
   "source": [
    "dataset.head()"
   ]
  },
  {
   "cell_type": "code",
   "execution_count": 48,
   "id": "414347ec",
   "metadata": {},
   "outputs": [
    {
     "data": {
      "text/html": [
       "<div>\n",
       "<style scoped>\n",
       "    .dataframe tbody tr th:only-of-type {\n",
       "        vertical-align: middle;\n",
       "    }\n",
       "\n",
       "    .dataframe tbody tr th {\n",
       "        vertical-align: top;\n",
       "    }\n",
       "\n",
       "    .dataframe thead th {\n",
       "        text-align: right;\n",
       "    }\n",
       "</style>\n",
       "<table border=\"1\" class=\"dataframe\">\n",
       "  <thead>\n",
       "    <tr style=\"text-align: right;\">\n",
       "      <th></th>\n",
       "      <th>State</th>\n",
       "      <th>Year</th>\n",
       "      <th>Total_Cases</th>\n",
       "    </tr>\n",
       "  </thead>\n",
       "  <tbody>\n",
       "    <tr>\n",
       "      <th>77</th>\n",
       "      <td>2</td>\n",
       "      <td>2019</td>\n",
       "      <td>28</td>\n",
       "    </tr>\n",
       "    <tr>\n",
       "      <th>0</th>\n",
       "      <td>1</td>\n",
       "      <td>2010</td>\n",
       "      <td>152</td>\n",
       "    </tr>\n",
       "    <tr>\n",
       "      <th>72</th>\n",
       "      <td>2</td>\n",
       "      <td>2014</td>\n",
       "      <td>35</td>\n",
       "    </tr>\n",
       "    <tr>\n",
       "      <th>32</th>\n",
       "      <td>3</td>\n",
       "      <td>2014</td>\n",
       "      <td>669</td>\n",
       "    </tr>\n",
       "    <tr>\n",
       "      <th>52</th>\n",
       "      <td>2</td>\n",
       "      <td>2014</td>\n",
       "      <td>14</td>\n",
       "    </tr>\n",
       "    <tr>\n",
       "      <th>43</th>\n",
       "      <td>0</td>\n",
       "      <td>2015</td>\n",
       "      <td>4</td>\n",
       "    </tr>\n",
       "    <tr>\n",
       "      <th>14</th>\n",
       "      <td>3</td>\n",
       "      <td>2015</td>\n",
       "      <td>156</td>\n",
       "    </tr>\n",
       "    <tr>\n",
       "      <th>29</th>\n",
       "      <td>3</td>\n",
       "      <td>2011</td>\n",
       "      <td>655</td>\n",
       "    </tr>\n",
       "    <tr>\n",
       "      <th>75</th>\n",
       "      <td>2</td>\n",
       "      <td>2017</td>\n",
       "      <td>33</td>\n",
       "    </tr>\n",
       "    <tr>\n",
       "      <th>2</th>\n",
       "      <td>1</td>\n",
       "      <td>2012</td>\n",
       "      <td>131</td>\n",
       "    </tr>\n",
       "  </tbody>\n",
       "</table>\n",
       "</div>"
      ],
      "text/plain": [
       "    State  Year  Total_Cases\n",
       "77      2  2019           28\n",
       "0       1  2010          152\n",
       "72      2  2014           35\n",
       "32      3  2014          669\n",
       "52      2  2014           14\n",
       "43      0  2015            4\n",
       "14      3  2015          156\n",
       "29      3  2011          655\n",
       "75      2  2017           33\n",
       "2       1  2012          131"
      ]
     },
     "execution_count": 48,
     "metadata": {},
     "output_type": "execute_result"
    }
   ],
   "source": [
    "dataset.sample(10)"
   ]
  },
  {
   "cell_type": "code",
   "execution_count": 49,
   "id": "3df6655e",
   "metadata": {},
   "outputs": [],
   "source": [
    "x = dataset.iloc[:, : -1]\n",
    "y = dataset.iloc[:, -1]"
   ]
  },
  {
   "cell_type": "code",
   "execution_count": 50,
   "id": "2930eef1",
   "metadata": {},
   "outputs": [
    {
     "data": {
      "text/html": [
       "<div>\n",
       "<style scoped>\n",
       "    .dataframe tbody tr th:only-of-type {\n",
       "        vertical-align: middle;\n",
       "    }\n",
       "\n",
       "    .dataframe tbody tr th {\n",
       "        vertical-align: top;\n",
       "    }\n",
       "\n",
       "    .dataframe thead th {\n",
       "        text-align: right;\n",
       "    }\n",
       "</style>\n",
       "<table border=\"1\" class=\"dataframe\">\n",
       "  <thead>\n",
       "    <tr style=\"text-align: right;\">\n",
       "      <th></th>\n",
       "      <th>State</th>\n",
       "      <th>Year</th>\n",
       "    </tr>\n",
       "  </thead>\n",
       "  <tbody>\n",
       "    <tr>\n",
       "      <th>0</th>\n",
       "      <td>1</td>\n",
       "      <td>2010</td>\n",
       "    </tr>\n",
       "    <tr>\n",
       "      <th>1</th>\n",
       "      <td>1</td>\n",
       "      <td>2011</td>\n",
       "    </tr>\n",
       "    <tr>\n",
       "      <th>2</th>\n",
       "      <td>1</td>\n",
       "      <td>2012</td>\n",
       "    </tr>\n",
       "    <tr>\n",
       "      <th>3</th>\n",
       "      <td>1</td>\n",
       "      <td>2013</td>\n",
       "    </tr>\n",
       "    <tr>\n",
       "      <th>4</th>\n",
       "      <td>1</td>\n",
       "      <td>2014</td>\n",
       "    </tr>\n",
       "  </tbody>\n",
       "</table>\n",
       "</div>"
      ],
      "text/plain": [
       "   State  Year\n",
       "0      1  2010\n",
       "1      1  2011\n",
       "2      1  2012\n",
       "3      1  2013\n",
       "4      1  2014"
      ]
     },
     "execution_count": 50,
     "metadata": {},
     "output_type": "execute_result"
    }
   ],
   "source": [
    "x.head()"
   ]
  },
  {
   "cell_type": "code",
   "execution_count": 51,
   "id": "ef29c12b",
   "metadata": {},
   "outputs": [
    {
     "data": {
      "text/plain": [
       "0    152\n",
       "1    130\n",
       "2    131\n",
       "3    125\n",
       "4    158\n",
       "Name: Total_Cases, dtype: int64"
      ]
     },
     "execution_count": 51,
     "metadata": {},
     "output_type": "execute_result"
    }
   ],
   "source": [
    "y.head()"
   ]
  },
  {
   "cell_type": "code",
   "execution_count": 52,
   "id": "8c9657c5",
   "metadata": {},
   "outputs": [],
   "source": [
    "x_train, x_test, y_train, y_test = train_test_split(x, y, test_size = 0.2, random_state = 2)"
   ]
  },
  {
   "cell_type": "code",
   "execution_count": 53,
   "id": "df627f28",
   "metadata": {},
   "outputs": [],
   "source": [
    "re = LinearRegression()"
   ]
  },
  {
   "cell_type": "code",
   "execution_count": 54,
   "id": "f38818e6",
   "metadata": {},
   "outputs": [
    {
     "data": {
      "text/plain": [
       "LinearRegression()"
      ]
     },
     "execution_count": 54,
     "metadata": {},
     "output_type": "execute_result"
    }
   ],
   "source": [
    "re.fit(x_train, y_train)"
   ]
  },
  {
   "cell_type": "code",
   "execution_count": 55,
   "id": "1d87b845",
   "metadata": {},
   "outputs": [],
   "source": [
    "y_pred = re.predict(x_test)"
   ]
  },
  {
   "cell_type": "code",
   "execution_count": 56,
   "id": "1cb8c3db",
   "metadata": {},
   "outputs": [
    {
     "data": {
      "text/plain": [
       "array([312.36218098,  45.27727569, 173.00847331, 348.08793101,\n",
       "       265.01392091, 229.28817089, 155.1455983 ,  45.27727569,\n",
       "        -8.31134935, 137.28272329, 357.01936851,   9.55152567,\n",
       "       101.55697327,  54.20871319, 119.41984828, 247.1510459 ])"
      ]
     },
     "execution_count": 56,
     "metadata": {},
     "output_type": "execute_result"
    }
   ],
   "source": [
    "y_pred"
   ]
  },
  {
   "cell_type": "code",
   "execution_count": 57,
   "id": "15759bd5",
   "metadata": {},
   "outputs": [
    {
     "data": {
      "text/html": [
       "<div>\n",
       "<style scoped>\n",
       "    .dataframe tbody tr th:only-of-type {\n",
       "        vertical-align: middle;\n",
       "    }\n",
       "\n",
       "    .dataframe tbody tr th {\n",
       "        vertical-align: top;\n",
       "    }\n",
       "\n",
       "    .dataframe thead th {\n",
       "        text-align: right;\n",
       "    }\n",
       "</style>\n",
       "<table border=\"1\" class=\"dataframe\">\n",
       "  <thead>\n",
       "    <tr style=\"text-align: right;\">\n",
       "      <th></th>\n",
       "      <th>Actual</th>\n",
       "      <th>Predicteed</th>\n",
       "    </tr>\n",
       "  </thead>\n",
       "  <tbody>\n",
       "    <tr>\n",
       "      <th>28</th>\n",
       "      <td>675</td>\n",
       "      <td>312.362181</td>\n",
       "    </tr>\n",
       "    <tr>\n",
       "      <th>65</th>\n",
       "      <td>11</td>\n",
       "      <td>45.277276</td>\n",
       "    </tr>\n",
       "    <tr>\n",
       "      <th>27</th>\n",
       "      <td>458</td>\n",
       "      <td>173.008473</td>\n",
       "    </tr>\n",
       "    <tr>\n",
       "      <th>13</th>\n",
       "      <td>143</td>\n",
       "      <td>348.087931</td>\n",
       "    </tr>\n",
       "    <tr>\n",
       "      <th>75</th>\n",
       "      <td>33</td>\n",
       "      <td>265.013921</td>\n",
       "    </tr>\n",
       "  </tbody>\n",
       "</table>\n",
       "</div>"
      ],
      "text/plain": [
       "    Actual  Predicteed\n",
       "28     675  312.362181\n",
       "65      11   45.277276\n",
       "27     458  173.008473\n",
       "13     143  348.087931\n",
       "75      33  265.013921"
      ]
     },
     "execution_count": 57,
     "metadata": {},
     "output_type": "execute_result"
    }
   ],
   "source": [
    "pd.DataFrame(\n",
    "    {\n",
    "        \"Actual\": y_test,\n",
    "        \"Predicteed\": y_pred\n",
    "    }).head()"
   ]
  },
  {
   "cell_type": "code",
   "execution_count": 58,
   "id": "37c71b36",
   "metadata": {},
   "outputs": [
    {
     "data": {
      "text/plain": [
       "168.9006737111472"
      ]
     },
     "execution_count": 58,
     "metadata": {},
     "output_type": "execute_result"
    }
   ],
   "source": [
    "metrics.mean_absolute_error(y_test, y_pred)"
   ]
  },
  {
   "cell_type": "code",
   "execution_count": 59,
   "id": "13f7c242",
   "metadata": {},
   "outputs": [
    {
     "data": {
      "text/plain": [
       "0.038442167671553173"
      ]
     },
     "execution_count": 59,
     "metadata": {},
     "output_type": "execute_result"
    }
   ],
   "source": [
    "metrics.r2_score(y_test, y_pred)"
   ]
  }
 ],
 "metadata": {
  "kernelspec": {
   "display_name": "Python 3 (ipykernel)",
   "language": "python",
   "name": "python3"
  },
  "language_info": {
   "codemirror_mode": {
    "name": "ipython",
    "version": 3
   },
   "file_extension": ".py",
   "mimetype": "text/x-python",
   "name": "python",
   "nbconvert_exporter": "python",
   "pygments_lexer": "ipython3",
   "version": "3.9.7"
  }
 },
 "nbformat": 4,
 "nbformat_minor": 5
}
