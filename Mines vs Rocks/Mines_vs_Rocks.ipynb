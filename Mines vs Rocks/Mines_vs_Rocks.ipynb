{
 "cells": [
  {
   "cell_type": "markdown",
   "id": "ed6a443f",
   "metadata": {},
   "source": [
    "# Importing necessary libraries"
   ]
  },
  {
   "cell_type": "code",
   "execution_count": null,
   "id": "f8c38334",
   "metadata": {},
   "outputs": [],
   "source": [
    "import numba as np\n",
    "import pandas as pd\n",
    "import matplotlib.pyplot as plt\n",
    "import seaborn as sns\n",
    "from sklearn.model_selection import train_test_split\n",
    "from sklearn.linear_model import LogisticRegression\n",
    "from sklearn.metrics import accuracy_score\n"
   ]
  },
  {
   "cell_type": "markdown",
   "id": "c9cd9b6d",
   "metadata": {},
   "source": [
    "# Data Collection and Processing"
   ]
  },
  {
   "cell_type": "code",
   "execution_count": null,
   "id": "eba7693a",
   "metadata": {},
   "outputs": [],
   "source": [
    "data = pd.read_csv('sonar.all-data 2.csv', header = None)"
   ]
  },
  {
   "cell_type": "code",
   "execution_count": null,
   "id": "c041e42b",
   "metadata": {},
   "outputs": [],
   "source": [
    "data.head()"
   ]
  },
  {
   "cell_type": "code",
   "execution_count": null,
   "id": "a201c1cc",
   "metadata": {},
   "outputs": [],
   "source": [
    "data.shape"
   ]
  },
  {
   "cell_type": "code",
   "execution_count": null,
   "id": "934ddc8f",
   "metadata": {},
   "outputs": [],
   "source": [
    "data.isnull().sum()"
   ]
  },
  {
   "cell_type": "code",
   "execution_count": null,
   "id": "317eb228",
   "metadata": {},
   "outputs": [],
   "source": [
    "data.describe()"
   ]
  },
  {
   "cell_type": "code",
   "execution_count": null,
   "id": "3b7be7d3",
   "metadata": {},
   "outputs": [],
   "source": [
    "data.value_counts()"
   ]
  },
  {
   "cell_type": "code",
   "execution_count": null,
   "id": "a55da9ef",
   "metadata": {},
   "outputs": [],
   "source": [
    "data[60].value_counts()"
   ]
  },
  {
   "cell_type": "markdown",
   "id": "27a9a6fb",
   "metadata": {},
   "source": [
    "### M = Mine , R = Rocks"
   ]
  },
  {
   "cell_type": "code",
   "execution_count": null,
   "id": "64a39653",
   "metadata": {},
   "outputs": [],
   "source": [
    "data.groupby(60).mean()"
   ]
  },
  {
   "cell_type": "code",
   "execution_count": null,
   "id": "b7beb183",
   "metadata": {},
   "outputs": [],
   "source": [
    "# Separating data and labels\n",
    "x = data.drop(columns = 60, axis = 1)\n",
    "y = data[60]"
   ]
  },
  {
   "cell_type": "code",
   "execution_count": null,
   "id": "68a72bb7",
   "metadata": {},
   "outputs": [],
   "source": [
    "print(x)"
   ]
  },
  {
   "cell_type": "code",
   "execution_count": null,
   "id": "65eb0f60",
   "metadata": {},
   "outputs": [],
   "source": [
    "print(y)"
   ]
  },
  {
   "cell_type": "markdown",
   "id": "9cbabca2",
   "metadata": {},
   "source": [
    "# Traing and Test Data"
   ]
  },
  {
   "cell_type": "code",
   "execution_count": null,
   "id": "0f5e1394",
   "metadata": {},
   "outputs": [],
   "source": [
    "x_train, x_test, y_train, y_test = train_test_split(x, y, test_size = 0.1, stratify = y, random_state = 1)"
   ]
  },
  {
   "cell_type": "code",
   "execution_count": null,
   "id": "2a993ae7",
   "metadata": {},
   "outputs": [],
   "source": [
    "print(x.shape)\n",
    "print(x_train.shape)\n",
    "print(x_test.shape)"
   ]
  },
  {
   "cell_type": "code",
   "execution_count": null,
   "id": "e2345589",
   "metadata": {},
   "outputs": [],
   "source": [
    "print(x_train) # training data"
   ]
  },
  {
   "cell_type": "code",
   "execution_count": null,
   "id": "6f3a5637",
   "metadata": {},
   "outputs": [],
   "source": [
    "print(y_train) # training model"
   ]
  },
  {
   "cell_type": "markdown",
   "id": "606d9c9f",
   "metadata": {},
   "source": [
    "# Model Training using Logistic Regression"
   ]
  },
  {
   "cell_type": "code",
   "execution_count": null,
   "id": "1079095e",
   "metadata": {},
   "outputs": [],
   "source": [
    "model = LogisticRegression()"
   ]
  },
  {
   "cell_type": "code",
   "execution_count": null,
   "id": "72c0e850",
   "metadata": {},
   "outputs": [],
   "source": [
    "model"
   ]
  },
  {
   "cell_type": "code",
   "execution_count": null,
   "id": "9075bb12",
   "metadata": {},
   "outputs": [],
   "source": [
    "model.fit(x_train, y_train)"
   ]
  },
  {
   "cell_type": "markdown",
   "id": "8bfcf53c",
   "metadata": {},
   "source": [
    "# Model Evaluation"
   ]
  },
  {
   "cell_type": "code",
   "execution_count": null,
   "id": "af9d69d8",
   "metadata": {},
   "outputs": [],
   "source": [
    "# accuracy on training data\n",
    "x_train_predict = model.predict(x_train)\n",
    "train_accu = accuracy_score(x_train_predict, y_train) "
   ]
  },
  {
   "cell_type": "code",
   "execution_count": null,
   "id": "ed2a3c39",
   "metadata": {},
   "outputs": [],
   "source": [
    "print(\"Accuracy of train data\",train_accu)"
   ]
  },
  {
   "cell_type": "code",
   "execution_count": null,
   "id": "143aa3d7",
   "metadata": {},
   "outputs": [],
   "source": [
    "# accuracy on test data\n",
    "x_test_predict = model.predict(x_test)\n",
    "test_accu = accuracy_score(x_test_predict, y_test) "
   ]
  },
  {
   "cell_type": "code",
   "execution_count": null,
   "id": "8c4fb468",
   "metadata": {},
   "outputs": [],
   "source": [
    "print(\"Accuracy of test data\",test_accu)"
   ]
  },
  {
   "cell_type": "markdown",
   "id": "6bb11175",
   "metadata": {},
   "source": [
    "# Predictive System"
   ]
  },
  {
   "cell_type": "code",
   "execution_count": null,
   "id": "ed7bebc0",
   "metadata": {},
   "outputs": [],
   "source": [
    "import_data = (0.0352,0.0116,0.0191,0.0469,0.0737,0.1185,0.1683,0.1541,0.1466,0.2912,0.2328,0.2237,0.2470,0.1560,0.3491,0.3308,0.2299,0.2203,0.2493,0.4128,0.3158,0.6191,0.5854,0.3395,0.2561,0.5599,0.8145,0.6941,0.6985,0.8660,0.5930,0.3664,0.6750,0.8697,0.7837,0.7552,0.5789,0.4713,0.1252,0.6087,0.7322,0.5977,0.3431,0.1803,0.2378,0.3424,0.2303,0.0689,0.0216,0.0469,0.0426,0.0346,0.0158,0.0154,0.0109,0.0048,0.0095,0.0015,0.0073,0.0067)\n",
    "\n",
    "input_data_np_array = np.asarray(import_data)\n",
    "\n",
    "# reshape\n",
    "input_data_reshape = input_data_np_array.reshape(1, -1)\n",
    "\n",
    "prediction = model.predict(input_data_reshape)\n",
    "print(prediction)\n",
    "\n",
    "if (prediction[0] == 'R'):\n",
    "    print(\"Object is Rock\")\n",
    "    \n",
    "else:\n",
    "    print(\"Object is Mine\")\n"
   ]
  },
  {
   "cell_type": "code",
   "execution_count": null,
   "id": "12297dbe",
   "metadata": {},
   "outputs": [],
   "source": []
  }
 ],
 "metadata": {
  "kernelspec": {
   "display_name": "Python 3 (ipykernel)",
   "language": "python",
   "name": "python3"
  },
  "language_info": {
   "codemirror_mode": {
    "name": "ipython",
    "version": 3
   },
   "file_extension": ".py",
   "mimetype": "text/x-python",
   "name": "python",
   "nbconvert_exporter": "python",
   "pygments_lexer": "ipython3",
   "version": "3.9.7"
  }
 },
 "nbformat": 4,
 "nbformat_minor": 5
}
